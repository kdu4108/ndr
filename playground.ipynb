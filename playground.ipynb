{
 "cells": [
  {
   "cell_type": "code",
   "execution_count": 26,
   "metadata": {},
   "outputs": [],
   "source": [
    "from dataset import ListOps\n",
    "import numpy as np"
   ]
  },
  {
   "cell_type": "code",
   "execution_count": 69,
   "metadata": {},
   "outputs": [
    {
     "name": "stdout",
     "output_type": "stream",
     "text": [
      "Generating dataset...\n"
     ]
    },
    {
     "name": "stderr",
     "output_type": "stream",
     "text": [
      "100%|██████████| 1000000/1000000 [05:49<00:00, 2858.97it/s]"
     ]
    },
    {
     "name": "stdout",
     "output_type": "stream",
     "text": [
      "Done.\n"
     ]
    },
    {
     "name": "stderr",
     "output_type": "stream",
     "text": [
      "\n"
     ]
    },
    {
     "name": "stdout",
     "output_type": "stream",
     "text": [
      "Listops dependency\n",
      "    depth histogram:  2: 582113, 3: 288707, 4: 91886, 5: 27776, 6: 7545, 7: 1631, 8: 299, 9: 38, 10: 5\n",
      "    depth cumulative histogram:  2: 58.2%, 3: 87.1%, 4: 96.3%, 5: 99.0%, 6: 99.8%, 7: 100.0%, 8: 100.0%, 9: 100.0%, 10: 100.0%\n",
      "    out histogram:  0: 11.7%, 1: 10.1%, 2: 9.6%, 3: 9.5%, 4: 9.6%, 5: 9.5%, 6: 9.3%, 7: 9.3%, 8: 9.9%, 9: 11.6%\n"
     ]
    }
   ],
   "source": [
    "data = ListOps(\n",
    "    set=\"test\", \n",
    "    length = 50, \n",
    "    depth = 20, \n",
    "    p_op = 0.25, \n",
    "    max_args = 5,\n",
    "    n_samples = 1000000\n",
    ")"
   ]
  },
  {
   "cell_type": "code",
   "execution_count": 67,
   "metadata": {},
   "outputs": [
    {
     "data": {
      "text/plain": [
       "{'in': array([13,  1,  0,  6,  7, 14], dtype=int8),\n",
       " 'out': 4,\n",
       " 'in_len': 6,\n",
       " 'out_len': 1,\n",
       " 'max_dependency_depth': 2}"
      ]
     },
     "execution_count": 67,
     "metadata": {},
     "output_type": "execute_result"
    }
   ],
   "source": [
    "next(iter(data))"
   ]
  },
  {
   "cell_type": "code",
   "execution_count": 59,
   "metadata": {},
   "outputs": [
    {
     "data": {
      "text/plain": [
       "Sample(input=[11, 8, 0, 11, 6, 4, 14, 4, 14], output=4, depth=3, length=11, max_dependency_depth=3)"
      ]
     },
     "execution_count": 59,
     "metadata": {},
     "output_type": "execute_result"
    }
   ],
   "source": [
    "data.translate_sample(data.get_one(np.random.RandomState(1)))"
   ]
  },
  {
   "cell_type": "code",
   "execution_count": 60,
   "metadata": {},
   "outputs": [
    {
     "name": "stdout",
     "output_type": "stream",
     "text": [
      "Listops dependency\n",
      "    depth histogram:  2: 6713, 3: 1964, 4: 760, 5: 312, 6: 157, 7: 49, 8: 28, 9: 9, 10: 3, 11: 3, 12: 1, 13: 1\n",
      "    depth cumulative histogram:  2: 67.1%, 3: 86.8%, 4: 94.4%, 5: 97.5%, 6: 99.1%, 7: 99.6%, 8: 99.8%, 9: 99.9%, 10: 100.0%, 11: 100.0%, 12: 100.0%, 13: 100.0%\n",
      "    out histogram:  0: 11.6%, 1: 10.6%, 2: 9.5%, 3: 9.7%, 4: 9.6%, 5: 9.2%, 6: 9.2%, 7: 9.4%, 8: 10.0%, 9: 11.2%\n"
     ]
    }
   ],
   "source": [
    "data.print_hist()"
   ]
  },
  {
   "cell_type": "code",
   "execution_count": 61,
   "metadata": {},
   "outputs": [
    {
     "data": {
      "text/plain": [
       "Sample(input='[MED 8 0 [MED 6 4 ] 4 ]', output=4, depth=3, length=11, max_dependency_depth=3)"
      ]
     },
     "execution_count": 61,
     "metadata": {},
     "output_type": "execute_result"
    }
   ],
   "source": [
    "data.get_one(np.random.RandomState(1))"
   ]
  },
  {
   "cell_type": "code",
   "execution_count": 62,
   "metadata": {},
   "outputs": [
    {
     "data": {
      "text/plain": [
       "{'0': 0,\n",
       " '1': 1,\n",
       " '2': 2,\n",
       " '3': 3,\n",
       " '4': 4,\n",
       " '5': 5,\n",
       " '6': 6,\n",
       " '7': 7,\n",
       " '8': 8,\n",
       " '9': 9,\n",
       " '[MAX': 10,\n",
       " '[MED': 11,\n",
       " '[MIN': 12,\n",
       " '[SM': 13,\n",
       " ']': 14}"
      ]
     },
     "execution_count": 62,
     "metadata": {},
     "output_type": "execute_result"
    }
   ],
   "source": [
    "data.in_vocabulary.words"
   ]
  },
  {
   "cell_type": "code",
   "execution_count": 63,
   "metadata": {},
   "outputs": [
    {
     "name": "stdout",
     "output_type": "stream",
     "text": [
      "['[MAX']\n"
     ]
    }
   ],
   "source": [
    "print(data.in_vocabulary.indices_to_sentence([10]))"
   ]
  },
  {
   "cell_type": "code",
   "execution_count": 64,
   "metadata": {},
   "outputs": [
    {
     "name": "stdout",
     "output_type": "stream",
     "text": [
      "Listops dependency\n",
      "    depth histogram:  2: 6713, 3: 1964, 4: 760, 5: 312, 6: 157, 7: 49, 8: 28, 9: 9, 10: 3, 11: 3, 12: 1, 13: 1\n",
      "    depth cumulative histogram:  2: 67.1%, 3: 86.8%, 4: 94.4%, 5: 97.5%, 6: 99.1%, 7: 99.6%, 8: 99.8%, 9: 99.9%, 10: 100.0%, 11: 100.0%, 12: 100.0%, 13: 100.0%\n",
      "    out histogram:  0: 11.6%, 1: 10.6%, 2: 9.5%, 3: 9.7%, 4: 9.6%, 5: 9.2%, 6: 9.2%, 7: 9.4%, 8: 10.0%, 9: 11.2%\n"
     ]
    }
   ],
   "source": [
    "data.print_hist()"
   ]
  },
  {
   "cell_type": "code",
   "execution_count": 65,
   "metadata": {},
   "outputs": [
    {
     "data": {
      "text/plain": [
       "(2, 20)"
      ]
     },
     "execution_count": 65,
     "metadata": {},
     "output_type": "execute_result"
    }
   ],
   "source": [
    "data.depth"
   ]
  },
  {
   "cell_type": "code",
   "execution_count": 36,
   "metadata": {},
   "outputs": [
    {
     "data": {
      "text/plain": [
       "3"
      ]
     },
     "execution_count": 36,
     "metadata": {},
     "output_type": "execute_result"
    }
   ],
   "source": [
    "depths = [e[\"max_dependency_depth\"] for e in data]\n",
    "max(depths)"
   ]
  },
  {
   "cell_type": "code",
   "execution_count": 23,
   "metadata": {},
   "outputs": [
    {
     "name": "stdout",
     "output_type": "stream",
     "text": [
      "{'in': array([13,  9,  6,  1, 14], dtype=int8), 'out': 6, 'in_len': 5, 'out_len': 1, 'max_dependency_depth': 2} ['[SM', '9', '6', '1', ']']\n",
      "{'in': array([11,  0,  8,  9,  6, 14], dtype=int8), 'out': 7, 'in_len': 6, 'out_len': 1, 'max_dependency_depth': 2} ['[MED', '0', '8', '9', '6', ']']\n",
      "{'in': array([12,  2,  7,  5,  0, 14], dtype=int8), 'out': 0, 'in_len': 6, 'out_len': 1, 'max_dependency_depth': 2} ['[MIN', '2', '7', '5', '0', ']']\n",
      "{'in': array([10,  4,  0,  0, 14], dtype=int8), 'out': 4, 'in_len': 5, 'out_len': 1, 'max_dependency_depth': 2} ['[MAX', '4', '0', '0', ']']\n",
      "{'in': array([13,  1,  0,  0, 14], dtype=int8), 'out': 1, 'in_len': 5, 'out_len': 1, 'max_dependency_depth': 2} ['[SM', '1', '0', '0', ']']\n",
      "{'in': array([11,  4,  2,  4,  7, 14], dtype=int8), 'out': 4, 'in_len': 6, 'out_len': 1, 'max_dependency_depth': 2} ['[MED', '4', '2', '4', '7', ']']\n",
      "{'in': array([10,  0,  8,  0,  3,  5, 14], dtype=int8), 'out': 8, 'in_len': 7, 'out_len': 1, 'max_dependency_depth': 2} ['[MAX', '0', '8', '0', '3', '5', ']']\n",
      "{'in': array([13,  6,  2,  1, 14], dtype=int8), 'out': 9, 'in_len': 5, 'out_len': 1, 'max_dependency_depth': 2} ['[SM', '6', '2', '1', ']']\n",
      "{'in': array([13,  6,  1,  5,  9, 14], dtype=int8), 'out': 1, 'in_len': 6, 'out_len': 1, 'max_dependency_depth': 2} ['[SM', '6', '1', '5', '9', ']']\n",
      "{'in': array([13,  1,  4,  4, 14], dtype=int8), 'out': 9, 'in_len': 5, 'out_len': 1, 'max_dependency_depth': 2} ['[SM', '1', '4', '4', ']']\n",
      "{'in': array([10,  3,  9,  1, 14], dtype=int8), 'out': 9, 'in_len': 5, 'out_len': 1, 'max_dependency_depth': 2} ['[MAX', '3', '9', '1', ']']\n",
      "{'in': array([11,  9,  7,  8, 14], dtype=int8), 'out': 8, 'in_len': 5, 'out_len': 1, 'max_dependency_depth': 2} ['[MED', '9', '7', '8', ']']\n",
      "{'in': array([12,  0,  3,  2, 14], dtype=int8), 'out': 0, 'in_len': 5, 'out_len': 1, 'max_dependency_depth': 2} ['[MIN', '0', '3', '2', ']']\n",
      "{'in': array([13,  8,  3,  9,  4, 14], dtype=int8), 'out': 4, 'in_len': 6, 'out_len': 1, 'max_dependency_depth': 2} ['[SM', '8', '3', '9', '4', ']']\n",
      "{'in': array([13,  7,  3,  2, 14], dtype=int8), 'out': 2, 'in_len': 5, 'out_len': 1, 'max_dependency_depth': 2} ['[SM', '7', '3', '2', ']']\n",
      "{'in': array([10,  5,  7,  7, 14], dtype=int8), 'out': 7, 'in_len': 5, 'out_len': 1, 'max_dependency_depth': 2} ['[MAX', '5', '7', '7', ']']\n",
      "{'in': array([11,  6,  3,  1, 14], dtype=int8), 'out': 3, 'in_len': 5, 'out_len': 1, 'max_dependency_depth': 2} ['[MED', '6', '3', '1', ']']\n",
      "{'in': array([10,  4,  2,  1, 14], dtype=int8), 'out': 4, 'in_len': 5, 'out_len': 1, 'max_dependency_depth': 2} ['[MAX', '4', '2', '1', ']']\n",
      "{'in': array([10,  5,  3,  2, 14], dtype=int8), 'out': 5, 'in_len': 5, 'out_len': 1, 'max_dependency_depth': 2} ['[MAX', '5', '3', '2', ']']\n",
      "{'in': array([11,  0,  7, 14], dtype=int8), 'out': 3, 'in_len': 4, 'out_len': 1, 'max_dependency_depth': 2} ['[MED', '0', '7', ']']\n"
     ]
    }
   ],
   "source": [
    "for i, e in enumerate(data):\n",
    "    print(e, data.in_vocabulary.indices_to_sentence(e[\"in\"]))"
   ]
  },
  {
   "cell_type": "code",
   "execution_count": null,
   "metadata": {},
   "outputs": [],
   "source": []
  }
 ],
 "metadata": {
  "kernelspec": {
   "display_name": "mechinterp",
   "language": "python",
   "name": "python3"
  },
  "language_info": {
   "codemirror_mode": {
    "name": "ipython",
    "version": 3
   },
   "file_extension": ".py",
   "mimetype": "text/x-python",
   "name": "python",
   "nbconvert_exporter": "python",
   "pygments_lexer": "ipython3",
   "version": "3.10.12"
  }
 },
 "nbformat": 4,
 "nbformat_minor": 2
}
